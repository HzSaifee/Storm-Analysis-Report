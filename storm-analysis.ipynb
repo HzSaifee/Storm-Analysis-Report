{
 "cells": [
  {
   "cell_type": "code",
   "execution_count": 38,
   "metadata": {},
   "outputs": [],
   "source": [
    "# imports and setup \n",
    "import pandas as pd\n",
    "import scipy as sc\n",
    "import numpy as np\n",
    "import seaborn as sns\n",
    "\n",
    "import requests\n",
    "import math\n",
    "\n",
    "#%matplotlib notebook\n",
    "import matplotlib.pyplot as plt \n",
    "plt.style.use('ggplot')\n",
    "%matplotlib inline  "
   ]
  },
  {
   "cell_type": "code",
   "execution_count": 39,
   "metadata": {},
   "outputs": [],
   "source": [
    "storm_19 = pd.read_csv(\"./data/StormEvents_details-ftp_v1.0_d2019_c20200317.csv\")\n",
    "storm_18 = pd.read_csv(\"./data/StormEvents_details-ftp_v1.0_d2018_c20200317.csv\")\n",
    "storm_17 = pd.read_csv(\"./data/StormEvents_details-ftp_v1.0_d2017_c20200121.csv\")"
   ]
  },
  {
   "cell_type": "code",
   "execution_count": 40,
   "metadata": {},
   "outputs": [],
   "source": [
    "storms = storm_19.append(storm_18).append(storm_17)"
   ]
  },
  {
   "cell_type": "code",
   "execution_count": 41,
   "metadata": {},
   "outputs": [
    {
     "name": "stdout",
     "output_type": "stream",
     "text": [
      "<class 'pandas.core.frame.DataFrame'>\n",
      "Int64Index: 187038 entries, 0 to 57023\n",
      "Data columns (total 51 columns):\n",
      "BEGIN_YEARMONTH       187038 non-null int64\n",
      "BEGIN_DAY             187038 non-null int64\n",
      "BEGIN_TIME            187038 non-null int64\n",
      "END_YEARMONTH         187038 non-null int64\n",
      "END_DAY               187038 non-null int64\n",
      "END_TIME              187038 non-null int64\n",
      "EPISODE_ID            187038 non-null int64\n",
      "EVENT_ID              187038 non-null int64\n",
      "STATE                 187038 non-null object\n",
      "STATE_FIPS            187038 non-null int64\n",
      "YEAR                  187038 non-null int64\n",
      "MONTH_NAME            187038 non-null object\n",
      "EVENT_TYPE            187038 non-null object\n",
      "CZ_TYPE               187038 non-null object\n",
      "CZ_FIPS               187038 non-null int64\n",
      "CZ_NAME               187038 non-null object\n",
      "WFO                   187038 non-null object\n",
      "BEGIN_DATE_TIME       187038 non-null object\n",
      "CZ_TIMEZONE           187038 non-null object\n",
      "END_DATE_TIME         187038 non-null object\n",
      "INJURIES_DIRECT       187038 non-null int64\n",
      "INJURIES_INDIRECT     187038 non-null int64\n",
      "DEATHS_DIRECT         187038 non-null int64\n",
      "DEATHS_INDIRECT       187038 non-null int64\n",
      "DAMAGE_PROPERTY       150982 non-null object\n",
      "DAMAGE_CROPS          151279 non-null object\n",
      "SOURCE                187038 non-null object\n",
      "MAGNITUDE             97919 non-null float64\n",
      "MAGNITUDE_TYPE        70549 non-null object\n",
      "FLOOD_CAUSE           24858 non-null object\n",
      "CATEGORY              116 non-null float64\n",
      "TOR_F_SCALE           4624 non-null object\n",
      "TOR_LENGTH            4624 non-null float64\n",
      "TOR_WIDTH             4624 non-null float64\n",
      "TOR_OTHER_WFO         559 non-null object\n",
      "TOR_OTHER_CZ_STATE    559 non-null object\n",
      "TOR_OTHER_CZ_FIPS     559 non-null float64\n",
      "TOR_OTHER_CZ_NAME     559 non-null object\n",
      "BEGIN_RANGE           120944 non-null float64\n",
      "BEGIN_AZIMUTH         120944 non-null object\n",
      "BEGIN_LOCATION        120944 non-null object\n",
      "END_RANGE             120944 non-null float64\n",
      "END_AZIMUTH           120944 non-null object\n",
      "END_LOCATION          120944 non-null object\n",
      "BEGIN_LAT             120944 non-null float64\n",
      "BEGIN_LON             120944 non-null float64\n",
      "END_LAT               120944 non-null float64\n",
      "END_LON               120944 non-null float64\n",
      "EPISODE_NARRATIVE     187038 non-null object\n",
      "EVENT_NARRATIVE       146146 non-null object\n",
      "DATA_SOURCE           187038 non-null object\n",
      "dtypes: float64(11), int64(15), object(25)\n",
      "memory usage: 74.2+ MB\n"
     ]
    }
   ],
   "source": [
    "storms.info()"
   ]
  },
  {
   "cell_type": "code",
   "execution_count": 42,
   "metadata": {},
   "outputs": [],
   "source": [
    "storms['BEGIN_DATE_TIME'] = pd.to_datetime(storms['BEGIN_DATE_TIME'])\n",
    "storms['END_DATE_TIME'] = pd.to_datetime(storms['END_DATE_TIME'])"
   ]
  },
  {
   "cell_type": "code",
   "execution_count": 6,
   "metadata": {},
   "outputs": [],
   "source": [
    "# df.Val = (df.Val.replace(r'[KM]+$', '', regex=True).astype(float) * \\ df.Val.str.extract(r'[\\d\\.]+([KM]+)', expand=False).fillna(1).replace(['K','M'], [10**3, 10**6]).astype(int))"
   ]
  },
  {
   "cell_type": "code",
   "execution_count": 44,
   "metadata": {},
   "outputs": [
    {
     "ename": "KeyError",
     "evalue": "\"['EPISODE_ID' 'BEGIN_YEARMONTH' 'BEGIN_DAY' 'BEGIN_TIME' 'END_YEARMONTH'\\n 'END_DAY' 'END_TIME' 'STATE_FIPS' 'YEAR' 'MONTH_NAME' 'CZ_FIPS'\\n 'CZ_TIMEZONE' 'SOURCE' 'CATEGORY' 'EPISODE_NARRATIVE' 'EVENT_NARRATIVE'\\n 'BEGIN_AZIMUTH' 'END_AZIMUTH' 'BEGIN_RANGE' 'END_RANGE' 'DATA_SOURCE'] not found in axis\"",
     "output_type": "error",
     "traceback": [
      "\u001b[1;31m---------------------------------------------------------------------------\u001b[0m",
      "\u001b[1;31mKeyError\u001b[0m                                  Traceback (most recent call last)",
      "\u001b[1;32m<ipython-input-44-86420fe56361>\u001b[0m in \u001b[0;36m<module>\u001b[1;34m\u001b[0m\n\u001b[1;32m----> 1\u001b[1;33m \u001b[0mstorms\u001b[0m \u001b[1;33m=\u001b[0m \u001b[0mstorms\u001b[0m\u001b[1;33m.\u001b[0m\u001b[0mdrop\u001b[0m\u001b[1;33m(\u001b[0m\u001b[1;33m[\u001b[0m\u001b[1;34m'EPISODE_ID'\u001b[0m\u001b[1;33m,\u001b[0m\u001b[1;34m'BEGIN_YEARMONTH'\u001b[0m\u001b[1;33m,\u001b[0m \u001b[1;34m'BEGIN_DAY'\u001b[0m\u001b[1;33m,\u001b[0m \u001b[1;34m'BEGIN_TIME'\u001b[0m\u001b[1;33m,\u001b[0m \u001b[1;34m'END_YEARMONTH'\u001b[0m\u001b[1;33m,\u001b[0m \u001b[1;34m'END_DAY'\u001b[0m\u001b[1;33m,\u001b[0m \u001b[1;34m'END_TIME'\u001b[0m\u001b[1;33m,\u001b[0m \u001b[1;34m'STATE_FIPS'\u001b[0m\u001b[1;33m,\u001b[0m \u001b[1;34m'YEAR'\u001b[0m\u001b[1;33m,\u001b[0m \u001b[1;34m'MONTH_NAME'\u001b[0m\u001b[1;33m,\u001b[0m \u001b[1;34m'CZ_FIPS'\u001b[0m\u001b[1;33m,\u001b[0m \u001b[1;34m'CZ_TIMEZONE'\u001b[0m\u001b[1;33m,\u001b[0m \u001b[1;34m'SOURCE'\u001b[0m\u001b[1;33m,\u001b[0m \u001b[1;34m'CATEGORY'\u001b[0m\u001b[1;33m,\u001b[0m \u001b[1;34m'EPISODE_NARRATIVE'\u001b[0m\u001b[1;33m,\u001b[0m \u001b[1;34m'EVENT_NARRATIVE'\u001b[0m\u001b[1;33m,\u001b[0m \u001b[1;34m'BEGIN_AZIMUTH'\u001b[0m\u001b[1;33m,\u001b[0m \u001b[1;34m'END_AZIMUTH'\u001b[0m\u001b[1;33m,\u001b[0m \u001b[1;34m'BEGIN_RANGE'\u001b[0m\u001b[1;33m,\u001b[0m \u001b[1;34m'END_RANGE'\u001b[0m\u001b[1;33m,\u001b[0m \u001b[1;34m'DATA_SOURCE'\u001b[0m\u001b[1;33m]\u001b[0m\u001b[1;33m,\u001b[0m \u001b[0maxis\u001b[0m \u001b[1;33m=\u001b[0m \u001b[1;36m1\u001b[0m\u001b[1;33m)\u001b[0m\u001b[1;33m\u001b[0m\u001b[1;33m\u001b[0m\u001b[0m\n\u001b[0m",
      "\u001b[1;32mD:\\Anaconda3\\lib\\site-packages\\pandas\\core\\frame.py\u001b[0m in \u001b[0;36mdrop\u001b[1;34m(self, labels, axis, index, columns, level, inplace, errors)\u001b[0m\n\u001b[0;32m   4100\u001b[0m             \u001b[0mlevel\u001b[0m\u001b[1;33m=\u001b[0m\u001b[0mlevel\u001b[0m\u001b[1;33m,\u001b[0m\u001b[1;33m\u001b[0m\u001b[1;33m\u001b[0m\u001b[0m\n\u001b[0;32m   4101\u001b[0m             \u001b[0minplace\u001b[0m\u001b[1;33m=\u001b[0m\u001b[0minplace\u001b[0m\u001b[1;33m,\u001b[0m\u001b[1;33m\u001b[0m\u001b[1;33m\u001b[0m\u001b[0m\n\u001b[1;32m-> 4102\u001b[1;33m             \u001b[0merrors\u001b[0m\u001b[1;33m=\u001b[0m\u001b[0merrors\u001b[0m\u001b[1;33m,\u001b[0m\u001b[1;33m\u001b[0m\u001b[1;33m\u001b[0m\u001b[0m\n\u001b[0m\u001b[0;32m   4103\u001b[0m         )\n\u001b[0;32m   4104\u001b[0m \u001b[1;33m\u001b[0m\u001b[0m\n",
      "\u001b[1;32mD:\\Anaconda3\\lib\\site-packages\\pandas\\core\\generic.py\u001b[0m in \u001b[0;36mdrop\u001b[1;34m(self, labels, axis, index, columns, level, inplace, errors)\u001b[0m\n\u001b[0;32m   3912\u001b[0m         \u001b[1;32mfor\u001b[0m \u001b[0maxis\u001b[0m\u001b[1;33m,\u001b[0m \u001b[0mlabels\u001b[0m \u001b[1;32min\u001b[0m \u001b[0maxes\u001b[0m\u001b[1;33m.\u001b[0m\u001b[0mitems\u001b[0m\u001b[1;33m(\u001b[0m\u001b[1;33m)\u001b[0m\u001b[1;33m:\u001b[0m\u001b[1;33m\u001b[0m\u001b[1;33m\u001b[0m\u001b[0m\n\u001b[0;32m   3913\u001b[0m             \u001b[1;32mif\u001b[0m \u001b[0mlabels\u001b[0m \u001b[1;32mis\u001b[0m \u001b[1;32mnot\u001b[0m \u001b[1;32mNone\u001b[0m\u001b[1;33m:\u001b[0m\u001b[1;33m\u001b[0m\u001b[1;33m\u001b[0m\u001b[0m\n\u001b[1;32m-> 3914\u001b[1;33m                 \u001b[0mobj\u001b[0m \u001b[1;33m=\u001b[0m \u001b[0mobj\u001b[0m\u001b[1;33m.\u001b[0m\u001b[0m_drop_axis\u001b[0m\u001b[1;33m(\u001b[0m\u001b[0mlabels\u001b[0m\u001b[1;33m,\u001b[0m \u001b[0maxis\u001b[0m\u001b[1;33m,\u001b[0m \u001b[0mlevel\u001b[0m\u001b[1;33m=\u001b[0m\u001b[0mlevel\u001b[0m\u001b[1;33m,\u001b[0m \u001b[0merrors\u001b[0m\u001b[1;33m=\u001b[0m\u001b[0merrors\u001b[0m\u001b[1;33m)\u001b[0m\u001b[1;33m\u001b[0m\u001b[1;33m\u001b[0m\u001b[0m\n\u001b[0m\u001b[0;32m   3915\u001b[0m \u001b[1;33m\u001b[0m\u001b[0m\n\u001b[0;32m   3916\u001b[0m         \u001b[1;32mif\u001b[0m \u001b[0minplace\u001b[0m\u001b[1;33m:\u001b[0m\u001b[1;33m\u001b[0m\u001b[1;33m\u001b[0m\u001b[0m\n",
      "\u001b[1;32mD:\\Anaconda3\\lib\\site-packages\\pandas\\core\\generic.py\u001b[0m in \u001b[0;36m_drop_axis\u001b[1;34m(self, labels, axis, level, errors)\u001b[0m\n\u001b[0;32m   3944\u001b[0m                 \u001b[0mnew_axis\u001b[0m \u001b[1;33m=\u001b[0m \u001b[0maxis\u001b[0m\u001b[1;33m.\u001b[0m\u001b[0mdrop\u001b[0m\u001b[1;33m(\u001b[0m\u001b[0mlabels\u001b[0m\u001b[1;33m,\u001b[0m \u001b[0mlevel\u001b[0m\u001b[1;33m=\u001b[0m\u001b[0mlevel\u001b[0m\u001b[1;33m,\u001b[0m \u001b[0merrors\u001b[0m\u001b[1;33m=\u001b[0m\u001b[0merrors\u001b[0m\u001b[1;33m)\u001b[0m\u001b[1;33m\u001b[0m\u001b[1;33m\u001b[0m\u001b[0m\n\u001b[0;32m   3945\u001b[0m             \u001b[1;32melse\u001b[0m\u001b[1;33m:\u001b[0m\u001b[1;33m\u001b[0m\u001b[1;33m\u001b[0m\u001b[0m\n\u001b[1;32m-> 3946\u001b[1;33m                 \u001b[0mnew_axis\u001b[0m \u001b[1;33m=\u001b[0m \u001b[0maxis\u001b[0m\u001b[1;33m.\u001b[0m\u001b[0mdrop\u001b[0m\u001b[1;33m(\u001b[0m\u001b[0mlabels\u001b[0m\u001b[1;33m,\u001b[0m \u001b[0merrors\u001b[0m\u001b[1;33m=\u001b[0m\u001b[0merrors\u001b[0m\u001b[1;33m)\u001b[0m\u001b[1;33m\u001b[0m\u001b[1;33m\u001b[0m\u001b[0m\n\u001b[0m\u001b[0;32m   3947\u001b[0m             \u001b[0mresult\u001b[0m \u001b[1;33m=\u001b[0m \u001b[0mself\u001b[0m\u001b[1;33m.\u001b[0m\u001b[0mreindex\u001b[0m\u001b[1;33m(\u001b[0m\u001b[1;33m**\u001b[0m\u001b[1;33m{\u001b[0m\u001b[0maxis_name\u001b[0m\u001b[1;33m:\u001b[0m \u001b[0mnew_axis\u001b[0m\u001b[1;33m}\u001b[0m\u001b[1;33m)\u001b[0m\u001b[1;33m\u001b[0m\u001b[1;33m\u001b[0m\u001b[0m\n\u001b[0;32m   3948\u001b[0m \u001b[1;33m\u001b[0m\u001b[0m\n",
      "\u001b[1;32mD:\\Anaconda3\\lib\\site-packages\\pandas\\core\\indexes\\base.py\u001b[0m in \u001b[0;36mdrop\u001b[1;34m(self, labels, errors)\u001b[0m\n\u001b[0;32m   5338\u001b[0m         \u001b[1;32mif\u001b[0m \u001b[0mmask\u001b[0m\u001b[1;33m.\u001b[0m\u001b[0many\u001b[0m\u001b[1;33m(\u001b[0m\u001b[1;33m)\u001b[0m\u001b[1;33m:\u001b[0m\u001b[1;33m\u001b[0m\u001b[1;33m\u001b[0m\u001b[0m\n\u001b[0;32m   5339\u001b[0m             \u001b[1;32mif\u001b[0m \u001b[0merrors\u001b[0m \u001b[1;33m!=\u001b[0m \u001b[1;34m\"ignore\"\u001b[0m\u001b[1;33m:\u001b[0m\u001b[1;33m\u001b[0m\u001b[1;33m\u001b[0m\u001b[0m\n\u001b[1;32m-> 5340\u001b[1;33m                 \u001b[1;32mraise\u001b[0m \u001b[0mKeyError\u001b[0m\u001b[1;33m(\u001b[0m\u001b[1;34m\"{} not found in axis\"\u001b[0m\u001b[1;33m.\u001b[0m\u001b[0mformat\u001b[0m\u001b[1;33m(\u001b[0m\u001b[0mlabels\u001b[0m\u001b[1;33m[\u001b[0m\u001b[0mmask\u001b[0m\u001b[1;33m]\u001b[0m\u001b[1;33m)\u001b[0m\u001b[1;33m)\u001b[0m\u001b[1;33m\u001b[0m\u001b[1;33m\u001b[0m\u001b[0m\n\u001b[0m\u001b[0;32m   5341\u001b[0m             \u001b[0mindexer\u001b[0m \u001b[1;33m=\u001b[0m \u001b[0mindexer\u001b[0m\u001b[1;33m[\u001b[0m\u001b[1;33m~\u001b[0m\u001b[0mmask\u001b[0m\u001b[1;33m]\u001b[0m\u001b[1;33m\u001b[0m\u001b[1;33m\u001b[0m\u001b[0m\n\u001b[0;32m   5342\u001b[0m         \u001b[1;32mreturn\u001b[0m \u001b[0mself\u001b[0m\u001b[1;33m.\u001b[0m\u001b[0mdelete\u001b[0m\u001b[1;33m(\u001b[0m\u001b[0mindexer\u001b[0m\u001b[1;33m)\u001b[0m\u001b[1;33m\u001b[0m\u001b[1;33m\u001b[0m\u001b[0m\n",
      "\u001b[1;31mKeyError\u001b[0m: \"['EPISODE_ID' 'BEGIN_YEARMONTH' 'BEGIN_DAY' 'BEGIN_TIME' 'END_YEARMONTH'\\n 'END_DAY' 'END_TIME' 'STATE_FIPS' 'YEAR' 'MONTH_NAME' 'CZ_FIPS'\\n 'CZ_TIMEZONE' 'SOURCE' 'CATEGORY' 'EPISODE_NARRATIVE' 'EVENT_NARRATIVE'\\n 'BEGIN_AZIMUTH' 'END_AZIMUTH' 'BEGIN_RANGE' 'END_RANGE' 'DATA_SOURCE'] not found in axis\""
     ]
    }
   ],
   "source": [
    "storms = storms.drop(['EPISODE_ID','BEGIN_YEARMONTH', 'BEGIN_DAY', 'BEGIN_TIME', 'END_YEARMONTH', 'END_DAY', 'END_TIME', 'STATE_FIPS', 'YEAR', 'MONTH_NAME', 'CZ_FIPS', 'CZ_TIMEZONE', 'SOURCE', 'CATEGORY', 'EPISODE_NARRATIVE', 'EVENT_NARRATIVE', 'BEGIN_AZIMUTH', 'END_AZIMUTH', 'BEGIN_RANGE', 'END_RANGE', 'DATA_SOURCE'], axis = 1)"
   ]
  },
  {
   "cell_type": "code",
   "execution_count": 45,
   "metadata": {},
   "outputs": [
    {
     "data": {
      "text/html": [
       "<div>\n",
       "<style scoped>\n",
       "    .dataframe tbody tr th:only-of-type {\n",
       "        vertical-align: middle;\n",
       "    }\n",
       "\n",
       "    .dataframe tbody tr th {\n",
       "        vertical-align: top;\n",
       "    }\n",
       "\n",
       "    .dataframe thead th {\n",
       "        text-align: right;\n",
       "    }\n",
       "</style>\n",
       "<table border=\"1\" class=\"dataframe\">\n",
       "  <thead>\n",
       "    <tr style=\"text-align: right;\">\n",
       "      <th></th>\n",
       "      <th>EVENT_ID</th>\n",
       "      <th>STATE</th>\n",
       "      <th>EVENT_TYPE</th>\n",
       "      <th>CZ_TYPE</th>\n",
       "      <th>CZ_NAME</th>\n",
       "      <th>WFO</th>\n",
       "      <th>BEGIN_DATE_TIME</th>\n",
       "      <th>END_DATE_TIME</th>\n",
       "      <th>INJURIES_DIRECT</th>\n",
       "      <th>INJURIES_INDIRECT</th>\n",
       "      <th>...</th>\n",
       "      <th>TOR_OTHER_WFO</th>\n",
       "      <th>TOR_OTHER_CZ_STATE</th>\n",
       "      <th>TOR_OTHER_CZ_FIPS</th>\n",
       "      <th>TOR_OTHER_CZ_NAME</th>\n",
       "      <th>BEGIN_LOCATION</th>\n",
       "      <th>END_LOCATION</th>\n",
       "      <th>BEGIN_LAT</th>\n",
       "      <th>BEGIN_LON</th>\n",
       "      <th>END_LAT</th>\n",
       "      <th>END_LON</th>\n",
       "    </tr>\n",
       "  </thead>\n",
       "  <tbody>\n",
       "    <tr>\n",
       "      <td>0</td>\n",
       "      <td>824116</td>\n",
       "      <td>TEXAS</td>\n",
       "      <td>Flash Flood</td>\n",
       "      <td>C</td>\n",
       "      <td>BEXAR</td>\n",
       "      <td>EWX</td>\n",
       "      <td>2019-05-09 15:54:00</td>\n",
       "      <td>2019-05-09 18:30:00</td>\n",
       "      <td>0</td>\n",
       "      <td>0</td>\n",
       "      <td>...</td>\n",
       "      <td>NaN</td>\n",
       "      <td>NaN</td>\n",
       "      <td>NaN</td>\n",
       "      <td>NaN</td>\n",
       "      <td>LEON SPGS</td>\n",
       "      <td>SAN GERONIMO</td>\n",
       "      <td>29.7898</td>\n",
       "      <td>-98.6406</td>\n",
       "      <td>29.7158</td>\n",
       "      <td>-98.7744</td>\n",
       "    </tr>\n",
       "    <tr>\n",
       "      <td>1</td>\n",
       "      <td>843354</td>\n",
       "      <td>MINNESOTA</td>\n",
       "      <td>Thunderstorm Wind</td>\n",
       "      <td>C</td>\n",
       "      <td>PINE</td>\n",
       "      <td>DLH</td>\n",
       "      <td>2019-07-15 16:40:00</td>\n",
       "      <td>2019-07-15 16:41:00</td>\n",
       "      <td>0</td>\n",
       "      <td>0</td>\n",
       "      <td>...</td>\n",
       "      <td>NaN</td>\n",
       "      <td>NaN</td>\n",
       "      <td>NaN</td>\n",
       "      <td>NaN</td>\n",
       "      <td>ROCK CREEK</td>\n",
       "      <td>ROCK CREEK</td>\n",
       "      <td>45.7700</td>\n",
       "      <td>-92.8700</td>\n",
       "      <td>45.7700</td>\n",
       "      <td>-92.8700</td>\n",
       "    </tr>\n",
       "    <tr>\n",
       "      <td>2</td>\n",
       "      <td>861581</td>\n",
       "      <td>TEXAS</td>\n",
       "      <td>Thunderstorm Wind</td>\n",
       "      <td>C</td>\n",
       "      <td>VAN ZANDT</td>\n",
       "      <td>FWD</td>\n",
       "      <td>2019-10-20 22:23:00</td>\n",
       "      <td>2019-10-20 22:23:00</td>\n",
       "      <td>0</td>\n",
       "      <td>0</td>\n",
       "      <td>...</td>\n",
       "      <td>NaN</td>\n",
       "      <td>NaN</td>\n",
       "      <td>NaN</td>\n",
       "      <td>NaN</td>\n",
       "      <td>EDGEWOOD</td>\n",
       "      <td>EDGEWOOD</td>\n",
       "      <td>32.7100</td>\n",
       "      <td>-95.8800</td>\n",
       "      <td>32.7100</td>\n",
       "      <td>-95.8800</td>\n",
       "    </tr>\n",
       "    <tr>\n",
       "      <td>3</td>\n",
       "      <td>861584</td>\n",
       "      <td>TEXAS</td>\n",
       "      <td>Thunderstorm Wind</td>\n",
       "      <td>C</td>\n",
       "      <td>TARRANT</td>\n",
       "      <td>FWD</td>\n",
       "      <td>2019-10-20 23:12:00</td>\n",
       "      <td>2019-10-20 23:12:00</td>\n",
       "      <td>0</td>\n",
       "      <td>0</td>\n",
       "      <td>...</td>\n",
       "      <td>NaN</td>\n",
       "      <td>NaN</td>\n",
       "      <td>NaN</td>\n",
       "      <td>NaN</td>\n",
       "      <td>AZLE</td>\n",
       "      <td>AZLE</td>\n",
       "      <td>32.8700</td>\n",
       "      <td>-97.6100</td>\n",
       "      <td>32.8700</td>\n",
       "      <td>-97.6100</td>\n",
       "    </tr>\n",
       "    <tr>\n",
       "      <td>4</td>\n",
       "      <td>861582</td>\n",
       "      <td>TEXAS</td>\n",
       "      <td>Thunderstorm Wind</td>\n",
       "      <td>C</td>\n",
       "      <td>PALO PINTO</td>\n",
       "      <td>FWD</td>\n",
       "      <td>2019-10-20 22:36:00</td>\n",
       "      <td>2019-10-20 22:36:00</td>\n",
       "      <td>0</td>\n",
       "      <td>0</td>\n",
       "      <td>...</td>\n",
       "      <td>NaN</td>\n",
       "      <td>NaN</td>\n",
       "      <td>NaN</td>\n",
       "      <td>NaN</td>\n",
       "      <td>MINERAL WELLS</td>\n",
       "      <td>MINERAL WELLS</td>\n",
       "      <td>32.8000</td>\n",
       "      <td>-98.1000</td>\n",
       "      <td>32.8000</td>\n",
       "      <td>-98.1000</td>\n",
       "    </tr>\n",
       "  </tbody>\n",
       "</table>\n",
       "<p>5 rows × 30 columns</p>\n",
       "</div>"
      ],
      "text/plain": [
       "   EVENT_ID      STATE         EVENT_TYPE CZ_TYPE     CZ_NAME  WFO  \\\n",
       "0    824116      TEXAS        Flash Flood       C       BEXAR  EWX   \n",
       "1    843354  MINNESOTA  Thunderstorm Wind       C        PINE  DLH   \n",
       "2    861581      TEXAS  Thunderstorm Wind       C   VAN ZANDT  FWD   \n",
       "3    861584      TEXAS  Thunderstorm Wind       C     TARRANT  FWD   \n",
       "4    861582      TEXAS  Thunderstorm Wind       C  PALO PINTO  FWD   \n",
       "\n",
       "      BEGIN_DATE_TIME       END_DATE_TIME  INJURIES_DIRECT  INJURIES_INDIRECT  \\\n",
       "0 2019-05-09 15:54:00 2019-05-09 18:30:00                0                  0   \n",
       "1 2019-07-15 16:40:00 2019-07-15 16:41:00                0                  0   \n",
       "2 2019-10-20 22:23:00 2019-10-20 22:23:00                0                  0   \n",
       "3 2019-10-20 23:12:00 2019-10-20 23:12:00                0                  0   \n",
       "4 2019-10-20 22:36:00 2019-10-20 22:36:00                0                  0   \n",
       "\n",
       "   ...  TOR_OTHER_WFO  TOR_OTHER_CZ_STATE TOR_OTHER_CZ_FIPS TOR_OTHER_CZ_NAME  \\\n",
       "0  ...            NaN                 NaN               NaN               NaN   \n",
       "1  ...            NaN                 NaN               NaN               NaN   \n",
       "2  ...            NaN                 NaN               NaN               NaN   \n",
       "3  ...            NaN                 NaN               NaN               NaN   \n",
       "4  ...            NaN                 NaN               NaN               NaN   \n",
       "\n",
       "   BEGIN_LOCATION   END_LOCATION BEGIN_LAT BEGIN_LON  END_LAT  END_LON  \n",
       "0       LEON SPGS   SAN GERONIMO   29.7898  -98.6406  29.7158 -98.7744  \n",
       "1      ROCK CREEK     ROCK CREEK   45.7700  -92.8700  45.7700 -92.8700  \n",
       "2        EDGEWOOD       EDGEWOOD   32.7100  -95.8800  32.7100 -95.8800  \n",
       "3            AZLE           AZLE   32.8700  -97.6100  32.8700 -97.6100  \n",
       "4   MINERAL WELLS  MINERAL WELLS   32.8000  -98.1000  32.8000 -98.1000  \n",
       "\n",
       "[5 rows x 30 columns]"
      ]
     },
     "execution_count": 45,
     "metadata": {},
     "output_type": "execute_result"
    }
   ],
   "source": [
    "storms.head()"
   ]
  },
  {
   "cell_type": "code",
   "execution_count": 46,
   "metadata": {
    "scrolled": true
   },
   "outputs": [
    {
     "name": "stdout",
     "output_type": "stream",
     "text": [
      "<class 'pandas.core.frame.DataFrame'>\n",
      "Int64Index: 187038 entries, 0 to 57023\n",
      "Data columns (total 30 columns):\n",
      "EVENT_ID              187038 non-null int64\n",
      "STATE                 187038 non-null object\n",
      "EVENT_TYPE            187038 non-null object\n",
      "CZ_TYPE               187038 non-null object\n",
      "CZ_NAME               187038 non-null object\n",
      "WFO                   187038 non-null object\n",
      "BEGIN_DATE_TIME       187038 non-null datetime64[ns]\n",
      "END_DATE_TIME         187038 non-null datetime64[ns]\n",
      "INJURIES_DIRECT       187038 non-null int64\n",
      "INJURIES_INDIRECT     187038 non-null int64\n",
      "DEATHS_DIRECT         187038 non-null int64\n",
      "DEATHS_INDIRECT       187038 non-null int64\n",
      "DAMAGE_PROPERTY       150982 non-null object\n",
      "DAMAGE_CROPS          151279 non-null object\n",
      "MAGNITUDE             97919 non-null float64\n",
      "MAGNITUDE_TYPE        70549 non-null object\n",
      "FLOOD_CAUSE           24858 non-null object\n",
      "TOR_F_SCALE           4624 non-null object\n",
      "TOR_LENGTH            4624 non-null float64\n",
      "TOR_WIDTH             4624 non-null float64\n",
      "TOR_OTHER_WFO         559 non-null object\n",
      "TOR_OTHER_CZ_STATE    559 non-null object\n",
      "TOR_OTHER_CZ_FIPS     559 non-null float64\n",
      "TOR_OTHER_CZ_NAME     559 non-null object\n",
      "BEGIN_LOCATION        120944 non-null object\n",
      "END_LOCATION          120944 non-null object\n",
      "BEGIN_LAT             120944 non-null float64\n",
      "BEGIN_LON             120944 non-null float64\n",
      "END_LAT               120944 non-null float64\n",
      "END_LON               120944 non-null float64\n",
      "dtypes: datetime64[ns](2), float64(8), int64(5), object(15)\n",
      "memory usage: 44.2+ MB\n"
     ]
    }
   ],
   "source": [
    "storms.info()"
   ]
  },
  {
   "cell_type": "code",
   "execution_count": 48,
   "metadata": {},
   "outputs": [],
   "source": [
    "# Removing rows where both Damage Property and Damange Crop are not present.\n",
    "storms = storms[(~storms['DAMAGE_PROPERTY'].isnull()) & (~storms['DAMAGE_CROPS'].isnull())]\n",
    "storms = storms[(~storms['BEGIN_LAT'].isnull()) & (~storms['BEGIN_LON'].isnull()) & (~storms['END_LAT'].isnull()) & (~storms['END_LON'].isnull())]"
   ]
  },
  {
   "cell_type": "code",
   "execution_count": 49,
   "metadata": {},
   "outputs": [],
   "source": [
    "storms.DAMAGE_PROPERTY = (storms.DAMAGE_PROPERTY.replace(r'[KMB]+$', '', regex=True).astype(float) * storms.DAMAGE_PROPERTY.str.extract(r'[\\d\\.]+([KMB]+)', expand=False).fillna(1).replace(['K','M','B'], [10**3, 10**6, 10**9]).astype(int)).astype(int)"
   ]
  },
  {
   "cell_type": "code",
   "execution_count": 50,
   "metadata": {},
   "outputs": [],
   "source": [
    "storms.DAMAGE_CROPS = (storms.DAMAGE_CROPS.replace(r'[KMB]+$', '', regex=True).astype(float) * storms.DAMAGE_CROPS.str.extract(r'[\\d\\.]+([KMB]+)', expand=False).fillna(1).replace(['K','M','B'], [10**3, 10**6, 10**9]).astype(int)).astype(int)"
   ]
  },
  {
   "cell_type": "code",
   "execution_count": 51,
   "metadata": {},
   "outputs": [],
   "source": [
    "storms[\"TOTAL_DAMAGE\"] = storms[\"DAMAGE_PROPERTY\"] + storms[\"DAMAGE_CROPS\"]\n",
    "storms[\"TOTAL_DEATHS\"] = storms[\"DEATHS_DIRECT\"] + storms[\"DEATHS_INDIRECT\"]\n",
    "storms[\"TOTAL_INJURIES\"] = storms[\"INJURIES_DIRECT\"] + storms[\"INJURIES_INDIRECT\"]"
   ]
  },
  {
   "cell_type": "code",
   "execution_count": 52,
   "metadata": {},
   "outputs": [],
   "source": [
    "storms = storms.drop([\"DAMAGE_PROPERTY\",\"DAMAGE_CROPS\"], axis = 1)\n",
    "storms = storms.drop([\"DEATHS_DIRECT\",\"DEATHS_INDIRECT\"], axis = 1)\n",
    "storms = storms.drop([\"INJURIES_DIRECT\",\"INJURIES_INDIRECT\"], axis = 1)"
   ]
  },
  {
   "cell_type": "code",
   "execution_count": 56,
   "metadata": {},
   "outputs": [
    {
     "data": {
      "text/plain": [
       "array(['Flash Flood', 'Thunderstorm Wind', 'Tornado', 'Hail',\n",
       "       'Marine Thunderstorm Wind', 'Waterspout', 'Heavy Rain', 'Flood',\n",
       "       'Lightning', 'Funnel Cloud', 'Debris Flow', 'Marine Hail',\n",
       "       'Marine High Wind', 'Dust Devil', 'Marine Strong Wind'],\n",
       "      dtype=object)"
      ]
     },
     "execution_count": 56,
     "metadata": {},
     "output_type": "execute_result"
    }
   ],
   "source": [
    "storms.EVENT_TYPE.unique()"
   ]
  },
  {
   "cell_type": "code",
   "execution_count": 53,
   "metadata": {},
   "outputs": [
    {
     "name": "stdout",
     "output_type": "stream",
     "text": [
      "<class 'pandas.core.frame.DataFrame'>\n",
      "Int64Index: 96045 entries, 0 to 57011\n",
      "Data columns (total 27 columns):\n",
      "EVENT_ID              96045 non-null int64\n",
      "STATE                 96045 non-null object\n",
      "EVENT_TYPE            96045 non-null object\n",
      "CZ_TYPE               96045 non-null object\n",
      "CZ_NAME               96045 non-null object\n",
      "WFO                   96045 non-null object\n",
      "BEGIN_DATE_TIME       96045 non-null datetime64[ns]\n",
      "END_DATE_TIME         96045 non-null datetime64[ns]\n",
      "MAGNITUDE             61021 non-null float64\n",
      "MAGNITUDE_TYPE        41763 non-null object\n",
      "FLOOD_CAUSE           24858 non-null object\n",
      "TOR_F_SCALE           3638 non-null object\n",
      "TOR_LENGTH            3638 non-null float64\n",
      "TOR_WIDTH             3638 non-null float64\n",
      "TOR_OTHER_WFO         456 non-null object\n",
      "TOR_OTHER_CZ_STATE    456 non-null object\n",
      "TOR_OTHER_CZ_FIPS     456 non-null float64\n",
      "TOR_OTHER_CZ_NAME     456 non-null object\n",
      "BEGIN_LOCATION        96045 non-null object\n",
      "END_LOCATION          96045 non-null object\n",
      "BEGIN_LAT             96045 non-null float64\n",
      "BEGIN_LON             96045 non-null float64\n",
      "END_LAT               96045 non-null float64\n",
      "END_LON               96045 non-null float64\n",
      "TOTAL_DAMAGE          96045 non-null int32\n",
      "TOTAL_DEATHS          96045 non-null int64\n",
      "TOTAL_INJURIES        96045 non-null int64\n",
      "dtypes: datetime64[ns](2), float64(8), int32(1), int64(3), object(13)\n",
      "memory usage: 20.2+ MB\n"
     ]
    }
   ],
   "source": [
    "storms.info()"
   ]
  },
  {
   "cell_type": "code",
   "execution_count": 54,
   "metadata": {},
   "outputs": [
    {
     "data": {
      "text/plain": [
       "<bound method NDFrame.describe of        EVENT_ID           STATE         EVENT_TYPE CZ_TYPE       CZ_NAME  WFO  \\\n",
       "0        824116           TEXAS        Flash Flood       C         BEXAR  EWX   \n",
       "1        843354       MINNESOTA  Thunderstorm Wind       C          PINE  DLH   \n",
       "2        861581           TEXAS  Thunderstorm Wind       C     VAN ZANDT  FWD   \n",
       "3        861584           TEXAS  Thunderstorm Wind       C       TARRANT  FWD   \n",
       "4        861582           TEXAS  Thunderstorm Wind       C    PALO PINTO  FWD   \n",
       "...         ...             ...                ...     ...           ...  ...   \n",
       "57004    714680  SOUTH CAROLINA        Flash Flood       C      RICHLAND  CAE   \n",
       "57005    714604  SOUTH CAROLINA         Heavy Rain       C  CHESTERFIELD  CAE   \n",
       "57006    699640  SOUTH CAROLINA              Flood       C      RICHLAND  CAE   \n",
       "57007    700753  SOUTH CAROLINA        Flash Flood       C      RICHLAND  CAE   \n",
       "57011    699562  SOUTH CAROLINA         Heavy Rain       C         AIKEN  CAE   \n",
       "\n",
       "          BEGIN_DATE_TIME       END_DATE_TIME  MAGNITUDE MAGNITUDE_TYPE  ...  \\\n",
       "0     2019-05-09 15:54:00 2019-05-09 18:30:00        NaN            NaN  ...   \n",
       "1     2019-07-15 16:40:00 2019-07-15 16:41:00       50.0             EG  ...   \n",
       "2     2019-10-20 22:23:00 2019-10-20 22:23:00       58.0             MG  ...   \n",
       "3     2019-10-20 23:12:00 2019-10-20 23:12:00       56.0             MG  ...   \n",
       "4     2019-10-20 22:36:00 2019-10-20 22:36:00       65.0             MG  ...   \n",
       "...                   ...                 ...        ...            ...  ...   \n",
       "57004 2017-07-23 18:23:00 2017-07-23 18:30:00        NaN            NaN  ...   \n",
       "57005 2017-07-18 17:00:00 2017-07-18 20:00:00        NaN            NaN  ...   \n",
       "57006 2017-07-10 16:08:00 2017-07-10 16:10:00        NaN            NaN  ...   \n",
       "57007 2017-07-16 18:15:00 2017-07-16 18:20:00        NaN            NaN  ...   \n",
       "57011 2017-07-06 17:00:00 2017-07-06 17:30:00        NaN            NaN  ...   \n",
       "\n",
       "      TOR_OTHER_CZ_NAME        BEGIN_LOCATION          END_LOCATION  \\\n",
       "0                   NaN             LEON SPGS          SAN GERONIMO   \n",
       "1                   NaN            ROCK CREEK            ROCK CREEK   \n",
       "2                   NaN              EDGEWOOD              EDGEWOOD   \n",
       "3                   NaN                  AZLE                  AZLE   \n",
       "4                   NaN         MINERAL WELLS         MINERAL WELLS   \n",
       "...                 ...                   ...                   ...   \n",
       "57004               NaN         OLYMPIA MILLS         OLYMPIA MILLS   \n",
       "57005               NaN            MT CROGHAN            MT CROGHAN   \n",
       "57006               NaN               PONTIAC               PONTIAC   \n",
       "57007               NaN  PONTIAC AIRSTRIP ARP  PONTIAC AIRSTRIP ARP   \n",
       "57011               NaN          NEW ELLENTON          NEW ELLENTON   \n",
       "\n",
       "       BEGIN_LAT BEGIN_LON  END_LAT  END_LON TOTAL_DAMAGE TOTAL_DEATHS  \\\n",
       "0        29.7898  -98.6406  29.7158 -98.7744            0            0   \n",
       "1        45.7700  -92.8700  45.7700 -92.8700            0            0   \n",
       "2        32.7100  -95.8800  32.7100 -95.8800            0            0   \n",
       "3        32.8700  -97.6100  32.8700 -97.6100            0            0   \n",
       "4        32.8000  -98.1000  32.8000 -98.1000            0            0   \n",
       "...          ...       ...      ...      ...          ...          ...   \n",
       "57004    33.9881  -81.0283  33.9872 -81.0288          200            0   \n",
       "57005    34.8100  -80.1600  34.8100 -80.1600          200            0   \n",
       "57006    34.1300  -80.8600  34.1266 -80.8589          200            0   \n",
       "57007    34.1358  -80.8818  34.1338 -80.8832          200            0   \n",
       "57011    33.4793  -81.7444  33.4793 -81.7444          200            0   \n",
       "\n",
       "      TOTAL_INJURIES  \n",
       "0                  0  \n",
       "1                  0  \n",
       "2                  0  \n",
       "3                  0  \n",
       "4                  0  \n",
       "...              ...  \n",
       "57004              0  \n",
       "57005              0  \n",
       "57006              0  \n",
       "57007              0  \n",
       "57011              0  \n",
       "\n",
       "[96045 rows x 27 columns]>"
      ]
     },
     "execution_count": 54,
     "metadata": {},
     "output_type": "execute_result"
    }
   ],
   "source": [
    "storms.describe"
   ]
  },
  {
   "cell_type": "code",
   "execution_count": 18,
   "metadata": {},
   "outputs": [],
   "source": [
    "# pd.DataFrame(storms[storms.END_LAT.isnull()].CZ_NAME.unique())"
   ]
  },
  {
   "cell_type": "code",
   "execution_count": 19,
   "metadata": {},
   "outputs": [],
   "source": [
    "# for lat, lon in zip(storms.END_LAT.iloc[:], storms.END_LON.iloc[:]):\n",
    "#     if(math.isnan(lat) and math.isnan(lon)):\n",
    "#         print(\"\")\n",
    "#     else:\n",
    "#         response = requests.get(\"https://geo.fcc.gov/api/census/area?lat=\"+str(lat)+\"&lon=\"+str(lon)+\"&format=json\")\n",
    "#         print(response.json()['results'][0]['county_name'])"
   ]
  },
  {
   "cell_type": "code",
   "execution_count": 20,
   "metadata": {},
   "outputs": [],
   "source": [
    "# storms[\"CATEGORIES\"] = storms[\"EVENT_TYPE\"]\n",
    "\n",
    "# #Categorizing Hurricanes\n",
    "# storms.loc[(storms.CATEGORIES == \"Hurricane\") | \n",
    "#            (storms.CATEGORIES == \"Marine Hurricane/Typhoon\") | \n",
    "#            (storms.CATEGORIES == \"Hurricane (Typhoon)\") | \n",
    "#            (storms.CATEGORIES == \"Tropical Storm\") | \n",
    "#            (storms.CATEGORIES == \"Marine Tropical Storm\") | \n",
    "#            (storms.CATEGORIES == \"Tropical Depression\") | \n",
    "#            (storms.CATEGORIES == \"Marine Tropical Depression\"), \"CATEGORIES\"] = \"Hurricane\"\n",
    "\n",
    "# #Categorizing Tornados\n",
    "# storms.loc[(storms.CATEGORIES == \"Tornado\") | \n",
    "#            (storms.CATEGORIES == \"Waterspout\") | \n",
    "#            (storms.CATEGORIES == \"Funnel Cloud\"), \"CATEGORIES\"] = \"Tornado\"\n",
    "\n",
    "# #Categorizing Windstorms\n",
    "# storms.loc[(storms.CATEGORIES == \"Strong Wind\") | \n",
    "#            (storms.CATEGORIES == \"High Wind\") | \n",
    "#            (storms.CATEGORIES == \"Marine High Wind\") | \n",
    "#            (storms.CATEGORIES == \"Marine Strong Wind\"), \"CATEGORIES\"] = \"Windstorm\"\n",
    "\n",
    "# #Categorizing Floods\n",
    "# storms.loc[(storms.CATEGORIES == \"Flash Flood\") | \n",
    "#            (storms.CATEGORIES == \"Flood\") | \n",
    "#            (storms.CATEGORIES == \"Coastal Flood\") | \n",
    "#            (storms.CATEGORIES == \"Lakeshore Flood\"), \"CATEGORIES\"] = \"Flood\"\n",
    "\n",
    "# #Categorizing High Waves\n",
    "# storms.loc[(storms.CATEGORIES == \"Tsunami\") | \n",
    "#            (storms.CATEGORIES == \"Rip Current\") | \n",
    "#            (storms.CATEGORIES == \"High Surf\") | \n",
    "#            (storms.CATEGORIES == \"Sneakerwave\") | \n",
    "#            (storms.CATEGORIES == \"Seiche\"), \"CATEGORIES\"] = \"High Waves\"\n",
    "\n",
    "# #Categorizing Tides\n",
    "# storms.loc[(storms.CATEGORIES == \"Astronomical Low Tide\") | \n",
    "#            (storms.CATEGORIES == \"Storm Surge/Tide\"), \"CATEGORIES\"] = \"Tides\"\n",
    "\n",
    "# #Categorizing Snow/Hail\n",
    "# storms.loc[(storms.CATEGORIES == \"Heavy Snow\") | \n",
    "#            (storms.CATEGORIES == \"Ice Storm\") | \n",
    "#            (storms.CATEGORIES == \"Winter Weather\") | \n",
    "#            (storms.CATEGORIES == \"Winter Storm\") | \n",
    "#            (storms.CATEGORIES == \"Blizzard\") | \n",
    "#            (storms.CATEGORIES == \"Frost/Freeze\") | \n",
    "#            (storms.CATEGORIES == \"Avalanche\") | \n",
    "#            (storms.CATEGORIES == \"Marine Hail\") | \n",
    "#            (storms.CATEGORIES == \"Hail\") | \n",
    "#            (storms.CATEGORIES == \"Sleet\") | \n",
    "#            (storms.CATEGORIES == \"Cold/Wind Chill\") | \n",
    "#            (storms.CATEGORIES == \"Extreme Cold/Wind Chill\") | \n",
    "#            (storms.CATEGORIES == \"Lake-Effect Snow\"), \"CATEGORIES\"] = \"Snow/Hail\"\n",
    "\n",
    "# #Categorizing Thunder/Rainstorm\n",
    "# storms.loc[(storms.CATEGORIES == \"Marine Thunderstorm Wind\") | \n",
    "#            (storms.CATEGORIES == \"Heavy Rain\") | \n",
    "#            (storms.CATEGORIES == \"Thunderstorm Wind\") | \n",
    "#            (storms.CATEGORIES == \"Lightning\"), \"CATEGORIES\"] = \"Thunder/Rainstorm\"\n",
    "\n",
    "# #Categorizing Fog/Smog\n",
    "# storms.loc[(storms.CATEGORIES == \"Dense Fog\") | \n",
    "#            (storms.CATEGORIES == \"Marine Dense Fog\") | \n",
    "#            (storms.CATEGORIES == \"Freezing Fog\") | \n",
    "#            (storms.CATEGORIES == \"Dense Smoke\"), \"CATEGORIES\"] = \"Fog/Smog\"\n",
    "\n",
    "# #Categorizing Heat\n",
    "# storms.loc[(storms.CATEGORIES == \"Excessive Heat\") | \n",
    "#            (storms.CATEGORIES == \"Heat\"), \"CATEGORIES\"] = \"Heat\"\n",
    "\n",
    "# #Categorizing Dust Storms\n",
    "# storms.loc[(storms.CATEGORIES == \"Dust Devil\") | \n",
    "#            (storms.CATEGORIES == \"Dust Storm\"), \"CATEGORIES\"] = \"Dust Storms\""
   ]
  },
  {
   "cell_type": "code",
   "execution_count": 57,
   "metadata": {},
   "outputs": [],
   "source": [
    "storms.to_csv('storms_clean_data.csv', index=False)"
   ]
  },
  {
   "cell_type": "code",
   "execution_count": 59,
   "metadata": {},
   "outputs": [],
   "source": [
    "storms = pd.read_csv(\"./storms_clean_data.csv\")"
   ]
  },
  {
   "cell_type": "code",
   "execution_count": 60,
   "metadata": {},
   "outputs": [
    {
     "name": "stdout",
     "output_type": "stream",
     "text": [
      "<class 'pandas.core.frame.DataFrame'>\n",
      "RangeIndex: 96045 entries, 0 to 96044\n",
      "Data columns (total 27 columns):\n",
      "EVENT_ID              96045 non-null int64\n",
      "STATE                 96045 non-null object\n",
      "EVENT_TYPE            96045 non-null object\n",
      "CZ_TYPE               96045 non-null object\n",
      "CZ_NAME               96045 non-null object\n",
      "WFO                   96045 non-null object\n",
      "BEGIN_DATE_TIME       96045 non-null object\n",
      "END_DATE_TIME         96045 non-null object\n",
      "MAGNITUDE             61021 non-null float64\n",
      "MAGNITUDE_TYPE        41763 non-null object\n",
      "FLOOD_CAUSE           24858 non-null object\n",
      "TOR_F_SCALE           3638 non-null object\n",
      "TOR_LENGTH            3638 non-null float64\n",
      "TOR_WIDTH             3638 non-null float64\n",
      "TOR_OTHER_WFO         456 non-null object\n",
      "TOR_OTHER_CZ_STATE    456 non-null object\n",
      "TOR_OTHER_CZ_FIPS     456 non-null float64\n",
      "TOR_OTHER_CZ_NAME     456 non-null object\n",
      "BEGIN_LOCATION        96045 non-null object\n",
      "END_LOCATION          96045 non-null object\n",
      "BEGIN_LAT             96045 non-null float64\n",
      "BEGIN_LON             96045 non-null float64\n",
      "END_LAT               96045 non-null float64\n",
      "END_LON               96045 non-null float64\n",
      "TOTAL_DAMAGE          96045 non-null int64\n",
      "TOTAL_DEATHS          96045 non-null int64\n",
      "TOTAL_INJURIES        96045 non-null int64\n",
      "dtypes: float64(8), int64(4), object(15)\n",
      "memory usage: 19.8+ MB\n"
     ]
    }
   ],
   "source": [
    "storms.info()"
   ]
  },
  {
   "cell_type": "code",
   "execution_count": 61,
   "metadata": {},
   "outputs": [
    {
     "data": {
      "text/html": [
       "<div>\n",
       "<style scoped>\n",
       "    .dataframe tbody tr th:only-of-type {\n",
       "        vertical-align: middle;\n",
       "    }\n",
       "\n",
       "    .dataframe tbody tr th {\n",
       "        vertical-align: top;\n",
       "    }\n",
       "\n",
       "    .dataframe thead th {\n",
       "        text-align: right;\n",
       "    }\n",
       "</style>\n",
       "<table border=\"1\" class=\"dataframe\">\n",
       "  <thead>\n",
       "    <tr style=\"text-align: right;\">\n",
       "      <th></th>\n",
       "      <th>EVENT_ID</th>\n",
       "      <th>MAGNITUDE</th>\n",
       "      <th>TOR_LENGTH</th>\n",
       "      <th>TOR_WIDTH</th>\n",
       "      <th>TOR_OTHER_CZ_FIPS</th>\n",
       "      <th>BEGIN_LAT</th>\n",
       "      <th>BEGIN_LON</th>\n",
       "      <th>END_LAT</th>\n",
       "      <th>END_LON</th>\n",
       "      <th>TOTAL_DAMAGE</th>\n",
       "      <th>TOTAL_DEATHS</th>\n",
       "      <th>TOTAL_INJURIES</th>\n",
       "    </tr>\n",
       "  </thead>\n",
       "  <tbody>\n",
       "    <tr>\n",
       "      <td>count</td>\n",
       "      <td>96045.000000</td>\n",
       "      <td>61021.000000</td>\n",
       "      <td>3638.000000</td>\n",
       "      <td>3638.000000</td>\n",
       "      <td>456.000000</td>\n",
       "      <td>96045.000000</td>\n",
       "      <td>96045.000000</td>\n",
       "      <td>96045.000000</td>\n",
       "      <td>96045.000000</td>\n",
       "      <td>9.604500e+04</td>\n",
       "      <td>96045.000000</td>\n",
       "      <td>96045.000000</td>\n",
       "    </tr>\n",
       "    <tr>\n",
       "      <td>mean</td>\n",
       "      <td>769305.473632</td>\n",
       "      <td>35.986870</td>\n",
       "      <td>2.905572</td>\n",
       "      <td>211.879489</td>\n",
       "      <td>103.679825</td>\n",
       "      <td>37.686686</td>\n",
       "      <td>-90.874853</td>\n",
       "      <td>37.683375</td>\n",
       "      <td>-90.866951</td>\n",
       "      <td>2.405126e+05</td>\n",
       "      <td>0.006497</td>\n",
       "      <td>0.021781</td>\n",
       "    </tr>\n",
       "    <tr>\n",
       "      <td>std</td>\n",
       "      <td>57088.173311</td>\n",
       "      <td>24.421614</td>\n",
       "      <td>3.861540</td>\n",
       "      <td>337.864677</td>\n",
       "      <td>92.008400</td>\n",
       "      <td>5.124009</td>\n",
       "      <td>11.870121</td>\n",
       "      <td>5.124998</td>\n",
       "      <td>11.866853</td>\n",
       "      <td>2.314057e+07</td>\n",
       "      <td>0.198856</td>\n",
       "      <td>0.938270</td>\n",
       "    </tr>\n",
       "    <tr>\n",
       "      <td>min</td>\n",
       "      <td>664501.000000</td>\n",
       "      <td>0.250000</td>\n",
       "      <td>0.010000</td>\n",
       "      <td>1.000000</td>\n",
       "      <td>1.000000</td>\n",
       "      <td>-14.362900</td>\n",
       "      <td>-171.032700</td>\n",
       "      <td>-14.437500</td>\n",
       "      <td>-170.905900</td>\n",
       "      <td>-2.147484e+09</td>\n",
       "      <td>0.000000</td>\n",
       "      <td>0.000000</td>\n",
       "    </tr>\n",
       "    <tr>\n",
       "      <td>25%</td>\n",
       "      <td>713932.000000</td>\n",
       "      <td>1.500000</td>\n",
       "      <td>0.450000</td>\n",
       "      <td>50.000000</td>\n",
       "      <td>43.000000</td>\n",
       "      <td>34.720000</td>\n",
       "      <td>-96.957300</td>\n",
       "      <td>34.720000</td>\n",
       "      <td>-96.940000</td>\n",
       "      <td>0.000000e+00</td>\n",
       "      <td>0.000000</td>\n",
       "      <td>0.000000</td>\n",
       "    </tr>\n",
       "    <tr>\n",
       "      <td>50%</td>\n",
       "      <td>769241.000000</td>\n",
       "      <td>50.000000</td>\n",
       "      <td>1.500000</td>\n",
       "      <td>100.000000</td>\n",
       "      <td>86.000000</td>\n",
       "      <td>38.073300</td>\n",
       "      <td>-90.380000</td>\n",
       "      <td>38.071700</td>\n",
       "      <td>-90.370000</td>\n",
       "      <td>0.000000e+00</td>\n",
       "      <td>0.000000</td>\n",
       "      <td>0.000000</td>\n",
       "    </tr>\n",
       "    <tr>\n",
       "      <td>75%</td>\n",
       "      <td>823956.000000</td>\n",
       "      <td>52.000000</td>\n",
       "      <td>3.967500</td>\n",
       "      <td>250.000000</td>\n",
       "      <td>133.500000</td>\n",
       "      <td>41.300000</td>\n",
       "      <td>-82.200300</td>\n",
       "      <td>41.293300</td>\n",
       "      <td>-82.195000</td>\n",
       "      <td>2.000000e+03</td>\n",
       "      <td>0.000000</td>\n",
       "      <td>0.000000</td>\n",
       "    </tr>\n",
       "    <tr>\n",
       "      <td>max</td>\n",
       "      <td>871547.000000</td>\n",
       "      <td>120.000000</td>\n",
       "      <td>41.880000</td>\n",
       "      <td>5280.000000</td>\n",
       "      <td>810.000000</td>\n",
       "      <td>66.838500</td>\n",
       "      <td>-64.715100</td>\n",
       "      <td>66.832900</td>\n",
       "      <td>-64.715100</td>\n",
       "      <td>2.000100e+09</td>\n",
       "      <td>38.000000</td>\n",
       "      <td>168.000000</td>\n",
       "    </tr>\n",
       "  </tbody>\n",
       "</table>\n",
       "</div>"
      ],
      "text/plain": [
       "            EVENT_ID     MAGNITUDE   TOR_LENGTH    TOR_WIDTH  \\\n",
       "count   96045.000000  61021.000000  3638.000000  3638.000000   \n",
       "mean   769305.473632     35.986870     2.905572   211.879489   \n",
       "std     57088.173311     24.421614     3.861540   337.864677   \n",
       "min    664501.000000      0.250000     0.010000     1.000000   \n",
       "25%    713932.000000      1.500000     0.450000    50.000000   \n",
       "50%    769241.000000     50.000000     1.500000   100.000000   \n",
       "75%    823956.000000     52.000000     3.967500   250.000000   \n",
       "max    871547.000000    120.000000    41.880000  5280.000000   \n",
       "\n",
       "       TOR_OTHER_CZ_FIPS     BEGIN_LAT     BEGIN_LON       END_LAT  \\\n",
       "count         456.000000  96045.000000  96045.000000  96045.000000   \n",
       "mean          103.679825     37.686686    -90.874853     37.683375   \n",
       "std            92.008400      5.124009     11.870121      5.124998   \n",
       "min             1.000000    -14.362900   -171.032700    -14.437500   \n",
       "25%            43.000000     34.720000    -96.957300     34.720000   \n",
       "50%            86.000000     38.073300    -90.380000     38.071700   \n",
       "75%           133.500000     41.300000    -82.200300     41.293300   \n",
       "max           810.000000     66.838500    -64.715100     66.832900   \n",
       "\n",
       "            END_LON  TOTAL_DAMAGE  TOTAL_DEATHS  TOTAL_INJURIES  \n",
       "count  96045.000000  9.604500e+04  96045.000000    96045.000000  \n",
       "mean     -90.866951  2.405126e+05      0.006497        0.021781  \n",
       "std       11.866853  2.314057e+07      0.198856        0.938270  \n",
       "min     -170.905900 -2.147484e+09      0.000000        0.000000  \n",
       "25%      -96.940000  0.000000e+00      0.000000        0.000000  \n",
       "50%      -90.370000  0.000000e+00      0.000000        0.000000  \n",
       "75%      -82.195000  2.000000e+03      0.000000        0.000000  \n",
       "max      -64.715100  2.000100e+09     38.000000      168.000000  "
      ]
     },
     "execution_count": 61,
     "metadata": {},
     "output_type": "execute_result"
    }
   ],
   "source": [
    "storms.describe()"
   ]
  },
  {
   "cell_type": "code",
   "execution_count": 62,
   "metadata": {},
   "outputs": [
    {
     "data": {
      "text/plain": [
       "<matplotlib.collections.PathCollection at 0x2b7911d10c8>"
      ]
     },
     "execution_count": 62,
     "metadata": {},
     "output_type": "execute_result"
    },
    {
     "data": {
      "image/png": "[encoded data removed]",
      "text/plain": [
       "<Figure size 432x288 with 1 Axes>"
      ]
     },
     "metadata": {
      "needs_background": "light"
     },
     "output_type": "display_data"
    }
   ],
   "source": [
    "x = storms.TOTAL_INJURIES.index.values\n",
    "plt.scatter(x, storms.TOTAL_INJURIES)"
   ]
  },
  {
   "cell_type": "code",
   "execution_count": 64,
   "metadata": {},
   "outputs": [],
   "source": [
    "storms = storms[storms.TOTAL_INJURIES <= 75]"
   ]
  },
  {
   "cell_type": "code",
   "execution_count": 65,
   "metadata": {},
   "outputs": [
    {
     "data": {
      "text/plain": [
       "<matplotlib.collections.PathCollection at 0x2b784fa3988>"
      ]
     },
     "execution_count": 65,
     "metadata": {},
     "output_type": "execute_result"
    },
    {
     "data": {
      "image/png": "[encoded data removed]",
      "text/plain": [
       "<Figure size 432x288 with 1 Axes>"
      ]
     },
     "metadata": {
      "needs_background": "light"
     },
     "output_type": "display_data"
    }
   ],
   "source": [
    "x = storms.TOTAL_INJURIES.index.values\n",
    "plt.scatter(x, storms.TOTAL_INJURIES)"
   ]
  },
  {
   "cell_type": "code",
   "execution_count": 66,
   "metadata": {},
   "outputs": [
    {
     "data": {
      "text/plain": [
       "<matplotlib.collections.PathCollection at 0x2b78db9cf08>"
      ]
     },
     "execution_count": 66,
     "metadata": {},
     "output_type": "execute_result"
    },
    {
     "data": {
      "image/png": "[encoded data removed]",
      "text/plain": [
       "<Figure size 432x288 with 1 Axes>"
      ]
     },
     "metadata": {
      "needs_background": "light"
     },
     "output_type": "display_data"
    }
   ],
   "source": [
    "x = storms.TOTAL_DAMAGE.index.values\n",
    "plt.scatter(x, storms.TOTAL_DAMAGE)"
   ]
  },
  {
   "cell_type": "code",
   "execution_count": 67,
   "metadata": {},
   "outputs": [],
   "source": [
    "storms = storms[storms.TOTAL_DAMAGE >= 0]"
   ]
  },
  {
   "cell_type": "code",
   "execution_count": 68,
   "metadata": {},
   "outputs": [
    {
     "data": {
      "text/plain": [
       "<matplotlib.collections.PathCollection at 0x2b786967448>"
      ]
     },
     "execution_count": 68,
     "metadata": {},
     "output_type": "execute_result"
    },
    {
     "data": {
      "image/png": "[encoded data removed]",
      "text/plain": [
       "<Figure size 432x288 with 1 Axes>"
      ]
     },
     "metadata": {
      "needs_background": "light"
     },
     "output_type": "display_data"
    }
   ],
   "source": [
    "x = storms.TOTAL_DAMAGE.index.values\n",
    "plt.scatter(x, storms.TOTAL_DAMAGE)"
   ]
  },
  {
   "cell_type": "code",
   "execution_count": 69,
   "metadata": {},
   "outputs": [
    {
     "data": {
      "text/plain": [
       "<matplotlib.collections.PathCollection at 0x2b788746648>"
      ]
     },
     "execution_count": 69,
     "metadata": {},
     "output_type": "execute_result"
    },
    {
     "data": {
      "image/png": "[encoded data removed]",
      "text/plain": [
       "<Figure size 432x288 with 1 Axes>"
      ]
     },
     "metadata": {
      "needs_background": "light"
     },
     "output_type": "display_data"
    }
   ],
   "source": [
    "x = storms.TOTAL_DEATHS.index.values\n",
    "plt.scatter(x, storms.TOTAL_DEATHS)"
   ]
  },
  {
   "cell_type": "code",
   "execution_count": 70,
   "metadata": {},
   "outputs": [],
   "source": [
    "storms = storms[storms.TOTAL_DEATHS <= 11]"
   ]
  },
  {
   "cell_type": "code",
   "execution_count": 71,
   "metadata": {},
   "outputs": [
    {
     "data": {
      "text/plain": [
       "<matplotlib.collections.PathCollection at 0x2b788757948>"
      ]
     },
     "execution_count": 71,
     "metadata": {},
     "output_type": "execute_result"
    },
    {
     "data": {
      "image/png": "[encoded data removed]",
      "text/plain": [
       "<Figure size 432x288 with 1 Axes>"
      ]
     },
     "metadata": {
      "needs_background": "light"
     },
     "output_type": "display_data"
    }
   ],
   "source": [
    "x = storms.TOTAL_DEATHS.index.values\n",
    "plt.scatter(x, storms.TOTAL_DEATHS)"
   ]
  },
  {
   "cell_type": "code",
   "execution_count": 72,
   "metadata": {},
   "outputs": [],
   "source": [
    "storms1 = storms.iloc[:,24:27]"
   ]
  },
  {
   "cell_type": "code",
   "execution_count": 73,
   "metadata": {},
   "outputs": [
    {
     "name": "stdout",
     "output_type": "stream",
     "text": [
      "<class 'pandas.core.frame.DataFrame'>\n",
      "Int64Index: 96035 entries, 0 to 96044\n",
      "Data columns (total 3 columns):\n",
      "TOTAL_DAMAGE      96035 non-null int64\n",
      "TOTAL_DEATHS      96035 non-null int64\n",
      "TOTAL_INJURIES    96035 non-null int64\n",
      "dtypes: int64(3)\n",
      "memory usage: 2.9 MB\n"
     ]
    }
   ],
   "source": [
    "storms1.info()"
   ]
  },
  {
   "cell_type": "code",
   "execution_count": 74,
   "metadata": {},
   "outputs": [
    {
     "data": {
      "text/plain": [
       "Text(0.5, 1, 'Correlation matrix')"
      ]
     },
     "execution_count": 74,
     "metadata": {},
     "output_type": "execute_result"
    },
    {
     "data": {
      "image/png": "[encoded data removed]",
      "text/plain": [
       "<Figure size 720x720 with 2 Axes>"
      ]
     },
     "metadata": {
      "needs_background": "light"
     },
     "output_type": "display_data"
    }
   ],
   "source": [
    "cmat = storms1.corr()\n",
    "plt.figure(figsize = (10,10))\n",
    "ax = sns.heatmap(cmat, vmin=-1, vmax=1, annot=True, linewidths = 1)\n",
    "\n",
    "plt.title(\"Correlation matrix\")"
   ]
  },
  {
   "cell_type": "markdown",
   "metadata": {},
   "source": []
  }
 ],
 "metadata": {
  "kernelspec": {
   "display_name": "Python 3",
   "language": "python",
   "name": "python3"
  },
  "language_info": {
   "codemirror_mode": {
    "name": "ipython",
    "version": 3
   },
   "file_extension": ".py",
   "mimetype": "text/x-python",
   "name": "python",
   "nbconvert_exporter": "python",
   "pygments_lexer": "ipython3",
   "version": "3.7.4"
  }
 },
 "nbformat": 4,
 "nbformat_minor": 2
}
